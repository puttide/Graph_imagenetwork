{
  "nbformat": 4,
  "nbformat_minor": 0,
  "metadata": {
    "colab": {
      "name": "Unet_brats.ipynb",
      "provenance": [],
      "collapsed_sections": [],
      "machine_shape": "hm"
    },
    "kernelspec": {
      "name": "python3",
      "display_name": "Python 3"
    },
    "accelerator": "GPU"
  },
  "cells": [
    {
      "cell_type": "code",
      "metadata": {
        "colab": {
          "base_uri": "https://localhost:8080/"
        },
        "id": "SSzH70zHRFt4",
        "outputId": "8dd65fb5-da28-473d-fd4e-8f52807105a3"
      },
      "source": [
        "!pip install nibabel"
      ],
      "execution_count": null,
      "outputs": [
        {
          "output_type": "stream",
          "text": [
            "Requirement already satisfied: nibabel in /usr/local/lib/python3.6/dist-packages (3.0.2)\n",
            "Requirement already satisfied: numpy>=1.12 in /usr/local/lib/python3.6/dist-packages (from nibabel) (1.19.4)\n"
          ],
          "name": "stdout"
        }
      ]
    },
    {
      "cell_type": "code",
      "metadata": {
        "colab": {
          "base_uri": "https://localhost:8080/"
        },
        "id": "R4LEfOfRXNlm",
        "outputId": "91b47bda-d10a-480b-9f5a-472f0087b481"
      },
      "source": [
        "from google.colab import drive\n",
        "drive.mount('/content/gdrive')"
      ],
      "execution_count": null,
      "outputs": [
        {
          "output_type": "stream",
          "text": [
            "Mounted at /content/gdrive\n"
          ],
          "name": "stdout"
        }
      ]
    },
    {
      "cell_type": "code",
      "metadata": {
        "id": "kRXQlQJyXW2v"
      },
      "source": [
        "folder_path_fully='/content/gdrive/My Drive/Brats2018/HGG'\n",
        "\n",
        "#folder_path_under='/content/gdrive/My Drive/Dataset_MRI/Under'"
      ],
      "execution_count": null,
      "outputs": []
    },
    {
      "cell_type": "code",
      "metadata": {
        "id": "EVJCQ6FvdP1r",
        "colab": {
          "base_uri": "https://localhost:8080/"
        },
        "outputId": "0eb8a0e6-489e-429f-ab5b-f77c8c5ac8bb"
      },
      "source": [
        "import os\n",
        "from scipy.ndimage import zoom  # For resizing\n",
        "subfolders=[os.path.join(folder_path_fully,folder) for folder in os.listdir(folder_path_fully) ]\n",
        "\n",
        "print(subfolders)\n"
      ],
      "execution_count": null,
      "outputs": [
        {
          "output_type": "stream",
          "text": [
            "['/content/gdrive/My Drive/Brats2018/HGG/Brats18_2013_20_1', '/content/gdrive/My Drive/Brats2018/HGG/Brats18_2013_10_1', '/content/gdrive/My Drive/Brats2018/HGG/Brats18_2013_17_1', '/content/gdrive/My Drive/Brats2018/HGG/Brats18_2013_18_1', '/content/gdrive/My Drive/Brats2018/HGG/Brats18_2013_14_1', '/content/gdrive/My Drive/Brats2018/HGG/Brats18_2013_21_1', '/content/gdrive/My Drive/Brats2018/HGG/Brats18_2013_19_1', '/content/gdrive/My Drive/Brats2018/HGG/Brats18_2013_12_1', '/content/gdrive/My Drive/Brats2018/HGG/Brats18_2013_11_1', '/content/gdrive/My Drive/Brats2018/HGG/Brats18_2013_13_1', '/content/gdrive/My Drive/Brats2018/HGG/Brats18_2013_5_1', '/content/gdrive/My Drive/Brats2018/HGG/Brats18_2013_3_1', '/content/gdrive/My Drive/Brats2018/HGG/Brats18_2013_4_1', '/content/gdrive/My Drive/Brats2018/HGG/Brats18_2013_2_1', '/content/gdrive/My Drive/Brats2018/HGG/Brats18_2013_7_1']\n"
          ],
          "name": "stdout"
        }
      ]
    },
    {
      "cell_type": "code",
      "metadata": {
        "colab": {
          "base_uri": "https://localhost:8080/"
        },
        "id": "PdZhbAAcIk-3",
        "outputId": "210cbb22-d62d-4329-9868-4eb0c698f31f"
      },
      "source": [
        "#print(subfolders[0]+'_flair.nii')\n",
        "\n",
        "def create_file_paths(subfolder):\n",
        "    folder=subfolder.split(\"/\", -1)[-1]\n",
        "    flair=subfolder.split(\"/\", -1)[-1]+'_flair.nii'\n",
        "    seg=subfolder.split(\"/\", -1)[-1]+'_seg.nii'\n",
        "    t1=subfolder.split(\"/\", -1)[-1]+'_t1.nii'\n",
        "    t1ce=subfolder.split(\"/\", -1)[-1]+'_t1ce.nii'\n",
        "    t2=subfolder.split(\"/\", -1)[-1]+'_t2.nii'\n",
        "    flair=os.path.join(subfolder,flair)\n",
        "    seg=os.path.join(subfolder,seg)\n",
        "    t1=os.path.join(subfolder,t1)\n",
        "    t1ce=os.path.join(subfolder,t1ce)\n",
        "    t2=os.path.join(subfolder,t2)\n",
        "    return [flair,seg,t1,t1ce,t2]\n",
        "filepaths=[create_file_paths(subfolder)  for subfolder in subfolders]\n",
        "print(filepaths[0:2])\n",
        "\n",
        "#print(os.path.join(subfolders[0],filename))"
      ],
      "execution_count": null,
      "outputs": [
        {
          "output_type": "stream",
          "text": [
            "[['/content/gdrive/My Drive/Brats2018/HGG/Brats18_2013_20_1/Brats18_2013_20_1_flair.nii', '/content/gdrive/My Drive/Brats2018/HGG/Brats18_2013_20_1/Brats18_2013_20_1_seg.nii', '/content/gdrive/My Drive/Brats2018/HGG/Brats18_2013_20_1/Brats18_2013_20_1_t1.nii', '/content/gdrive/My Drive/Brats2018/HGG/Brats18_2013_20_1/Brats18_2013_20_1_t1ce.nii', '/content/gdrive/My Drive/Brats2018/HGG/Brats18_2013_20_1/Brats18_2013_20_1_t2.nii'], ['/content/gdrive/My Drive/Brats2018/HGG/Brats18_2013_10_1/Brats18_2013_10_1_flair.nii', '/content/gdrive/My Drive/Brats2018/HGG/Brats18_2013_10_1/Brats18_2013_10_1_seg.nii', '/content/gdrive/My Drive/Brats2018/HGG/Brats18_2013_10_1/Brats18_2013_10_1_t1.nii', '/content/gdrive/My Drive/Brats2018/HGG/Brats18_2013_10_1/Brats18_2013_10_1_t1ce.nii', '/content/gdrive/My Drive/Brats2018/HGG/Brats18_2013_10_1/Brats18_2013_10_1_t2.nii']]\n"
          ],
          "name": "stdout"
        }
      ]
    },
    {
      "cell_type": "code",
      "metadata": {
        "id": "jXAhsVl6dYqX"
      },
      "source": [
        "def read_paths(filepaths):\n",
        "  \n",
        "  flair_list= [img_subpath[0] for img_subpath in filepaths]\n",
        "  seg_list=[img_subpath[1] for img_subpath in filepaths]\n",
        "  t1_list=[img_subpath[2] for img_subpath in filepaths]\n",
        "  t1ce_list=[img_subpath[3] for img_subpath in filepaths]\n",
        "  t2_list=[img_subpath[4] for img_subpath in filepaths]\n",
        "  flair=map(lambda x: np.asarray(nib.load(x).get_fdata()), flair_list)\n",
        "  seg=map(lambda x: np.asarray(nib.load(x).get_fdata()), seg_list)\n",
        "  t1=map(lambda x: np.asarray(nib.load(x).get_fdata()), t1_list)\n",
        "  t1ce=map(lambda x: np.asarray(nib.load(x).get_fdata()), t1ce_list)\n",
        "  t2=map(lambda x: np.asarray(nib.load(x).get_fdata()), t2_list)\n",
        "  flair=np.asarray(list(flair))\n",
        "  seg=np.asarray(list(seg))\n",
        "  t1=np.asarray(list(t1))\n",
        "  t1ce=np.asarray(list(t1ce))\n",
        "  t2=np.asarray(list(t2))\n",
        "  return flair,seg,t1,t1ce,t2"
      ],
      "execution_count": null,
      "outputs": []
    },
    {
      "cell_type": "code",
      "metadata": {
        "id": "gDOs8kZlwQZN"
      },
      "source": [
        "import nibabel as nib\n",
        "import numpy as np\n",
        "def normalize(x):\n",
        "    \"\"\"\n",
        "        argument\n",
        "            - x: input image data in numpy array [32, 32, 3]\n",
        "        return\n",
        "            - normalized x \n",
        "    \"\"\"\n",
        "    #min_val = np.min(x)\n",
        "    max_val = np.max(x)\n",
        "    x = x / max_val\n",
        "    return x\n",
        "def read_imgs(path):\n",
        "    img_paths=[os.path.join(path,img_folder) for img_folder in os.listdir(path) ]\n",
        "    imgs=map(lambda x: np.asarray(nib.load(x).get_fdata()), paths)\n",
        "    return imgs\n",
        "\n",
        "def split_imgs(subfolders):\n",
        "    #imgs=(normalize(np.asarray(list(read_imgs(sub_subfolders)))) for sub_subfolders in subfolders)\n",
        "    imgs=((np.asarray(list(read_imgs(sub_subfolders)))) for sub_subfolders in subfolders)\n",
        "    imgs=np.asarray(list(imgs))\n",
        "    return imgs\n",
        "'''\n",
        "imgs=split_imgs(subfolders)\n",
        "\n",
        "#flair=imgs[:,0:1,:,:,30:120]\n",
        "#seg=imgs[:,1:2,:,:,30:120]\n",
        "seg=imgs[:,0:1,:,:,30:120]\n",
        "flair=imgs[:,1:2,:,:,30:120]\n",
        "t1=imgs[:,2:3,:,:,30:120]\n",
        "t1ce=imgs[:,3:4,:,:,30:120]\n",
        "t2=imgs[:,4:5,:,:,30:120]\n",
        "print(flair.shape)\n",
        "'''\n",
        "flair,seg,t1,t1ce,t2=read_paths(filepaths)"
      ],
      "execution_count": null,
      "outputs": []
    },
    {
      "cell_type": "code",
      "metadata": {
        "colab": {
          "base_uri": "https://localhost:8080/"
        },
        "id": "lCS5ES9gjuwE",
        "outputId": "10b917b9-8d04-41c3-cbbd-ad56044605e5"
      },
      "source": [
        "\n",
        "flair=flair[:,:,:,30:120]\n",
        "seg=seg[:,:,:,30:120]\n",
        "t1=t1[:,:,:,30:120]\n",
        "t1ce=t1ce[:,:,:,30:120]\n",
        "t2=t2[:,:,:,30:120]\n",
        "print(flair.shape)\n",
        "#flair2=np.concatenate((flair,t1,t1ce,t2), axis=1)\n",
        "#print(flair2.shape)\n"
      ],
      "execution_count": null,
      "outputs": [
        {
          "output_type": "stream",
          "text": [
            "(15, 240, 240, 90)\n"
          ],
          "name": "stdout"
        }
      ]
    },
    {
      "cell_type": "code",
      "metadata": {
        "colab": {
          "base_uri": "https://localhost:8080/"
        },
        "id": "cQoH66f2pzzF",
        "outputId": "edee0ba1-156c-42ec-a4c9-2c08d3715130"
      },
      "source": [
        "flair=np.expand_dims(flair, axis=1)\n",
        "t1=np.expand_dims(t1, axis=1)\n",
        "t1ce=np.expand_dims(t1ce, axis=1)\n",
        "t2=np.expand_dims(t2, axis=1)\n",
        "seg=np.expand_dims(seg, axis=1)\n",
        "flair2=np.concatenate((flair,t1,t1ce,t2), axis=1)\n",
        "print(flair2.shape)"
      ],
      "execution_count": null,
      "outputs": [
        {
          "output_type": "stream",
          "text": [
            "(15, 4, 240, 240, 90)\n"
          ],
          "name": "stdout"
        }
      ]
    },
    {
      "cell_type": "code",
      "metadata": {
        "colab": {
          "base_uri": "https://localhost:8080/",
          "height": 286
        },
        "id": "P1nU0i1Q_OFB",
        "outputId": "90268356-73ba-4225-8d9c-f1117f2e2d5e"
      },
      "source": [
        "import matplotlib.pyplot as plt\n",
        "\n",
        "plt.imshow(np.squeeze(flair[0,:,:,:,70]))"
      ],
      "execution_count": null,
      "outputs": [
        {
          "output_type": "execute_result",
          "data": {
            "text/plain": [
              "<matplotlib.image.AxesImage at 0x7f8aac73fb00>"
            ]
          },
          "metadata": {
            "tags": []
          },
          "execution_count": 10
        },
        {
          "output_type": "display_data",
          "data": {
            "image/png": "[encoded data removed]",
            "text/plain": [
              "<Figure size 432x288 with 1 Axes>"
            ]
          },
          "metadata": {
            "tags": [],
            "needs_background": "light"
          }
        }
      ]
    },
    {
      "cell_type": "code",
      "metadata": {
        "colab": {
          "base_uri": "https://localhost:8080/"
        },
        "id": "YuwHWcAdQSvR",
        "outputId": "d6512116-1ed2-42bd-cac4-c26ac5494b29"
      },
      "source": [
        "print(np.max(flair[0]))\n",
        "print(np.max(seg[0]))\n",
        "print(np.max(t1[0]))\n",
        "print(np.max(t2[0]))"
      ],
      "execution_count": null,
      "outputs": [
        {
          "output_type": "stream",
          "text": [
            "607.0\n",
            "4.0\n",
            "734.0\n",
            "1032.0\n"
          ],
          "name": "stdout"
        }
      ]
    },
    {
      "cell_type": "code",
      "metadata": {
        "colab": {
          "base_uri": "https://localhost:8080/",
          "height": 268
        },
        "id": "KnGsxBgKx-bE",
        "outputId": "61add87b-eef2-4f5a-b260-8603b50abfae"
      },
      "source": [
        "import matplotlib.pyplot as plt\n",
        "\n",
        "#plt.hist(normalize(np.squeeze(seg[0,:,:,:,10])),bins=5)\n",
        "plt.hist(np.squeeze(seg[2,:,:,:,60]),bins=5)\n",
        "plt.show()"
      ],
      "execution_count": null,
      "outputs": [
        {
          "output_type": "display_data",
          "data": {
            "image/png": "[encoded data removed]",
            "text/plain": [
              "<Figure size 432x288 with 1 Axes>"
            ]
          },
          "metadata": {
            "tags": [],
            "needs_background": "light"
          }
        }
      ]
    },
    {
      "cell_type": "code",
      "metadata": {
        "id": "ftMaSHPGATw3"
      },
      "source": [
        "#seg_test=normalize(np.squeeze(seg[0,:,:,:,20].copy()))\n",
        "#plt.imshow(seg_test)"
      ],
      "execution_count": null,
      "outputs": []
    },
    {
      "cell_type": "code",
      "metadata": {
        "id": "YKIfQBA-Am0m"
      },
      "source": [
        "#seg_test1=np.where((seg_test>0.2)&(seg_test<0.4), seg_test, 0)\n",
        "#plt.imshow(seg_test1)\n",
        "##1.Necrosis------0.2 to 0.4\n",
        "##2.Edema---------0.4 to 0.6\n",
        "##3.Non-Enhancing tumor----0.6 to 0.8\n",
        "##4.Enhancing tumor--------0.8 to 1.0\n",
        "##5. Everything else------0 t0 0.2\n",
        "def convert_onech_tomultichannelgt(seg_img):\n",
        "  final_gt=[]\n",
        "  seg_test1=seg_img.copy()\n",
        "  seg_test2=seg_img.copy()\n",
        "  seg_test3=seg_img.copy()\n",
        "  seg_test4=seg_img.copy()\n",
        "  \n",
        "  seg_test1=np.where((seg_test1>0.0)&(seg_test1<=1.0), 1, 0)\n",
        "  seg_test2=np.where((seg_test2>1.0)&(seg_test2<=2.0), 1, 0)\n",
        "  seg_test3=np.where((seg_test3>2.0)&(seg_test3<=3.0), 1, 0)\n",
        "  seg_test4=np.where((seg_test4>3.0)&(seg_test4<=4.0), 1, 0)\n",
        "  seg_test2_3=seg_test2+seg_test3\n",
        "  seg_list=[seg_test1,seg_test2_3,seg_test4]\n",
        "  for segment in seg_list:\n",
        "    final_gt.append(segment)\n",
        "  return np.asarray(final_gt)\n",
        "\n",
        "  \n"
      ],
      "execution_count": null,
      "outputs": []
    },
    {
      "cell_type": "code",
      "metadata": {
        "id": "zllknzCSFnrV"
      },
      "source": [
        "flair2=np.asarray(list(map(lambda x: normalize(x), flair2))) #### change"
      ],
      "execution_count": null,
      "outputs": []
    },
    {
      "cell_type": "code",
      "metadata": {
        "colab": {
          "base_uri": "https://localhost:8080/",
          "height": 286
        },
        "id": "hid9EPhf6_D9",
        "outputId": "48a75e1a-2045-4515-ef8e-5e203ecb9df7"
      },
      "source": [
        "import matplotlib.pyplot as plt\n",
        "\n",
        "plt.imshow(np.squeeze(flair2[1,0,:,:,80]))"
      ],
      "execution_count": null,
      "outputs": [
        {
          "output_type": "execute_result",
          "data": {
            "text/plain": [
              "<matplotlib.image.AxesImage at 0x7f8aab52c240>"
            ]
          },
          "metadata": {
            "tags": []
          },
          "execution_count": 16
        },
        {
          "output_type": "display_data",
          "data": {
            "image/png": "[encoded data removed]",
            "text/plain": [
              "<Figure size 432x288 with 1 Axes>"
            ]
          },
          "metadata": {
            "tags": [],
            "needs_background": "light"
          }
        }
      ]
    },
    {
      "cell_type": "code",
      "metadata": {
        "colab": {
          "base_uri": "https://localhost:8080/"
        },
        "id": "wL8vJ0wa-TbR",
        "outputId": "f66eca77-6f72-4577-f4d7-cf52348792f8"
      },
      "source": [
        "flair3=[]\n",
        "for i in range(flair2.shape[-1]):\n",
        "    flair3.append(flair2[...,i])\n",
        "flair3=np.asarray(flair3)\n",
        "print(flair3.shape)\n",
        "flair3=flair3.reshape(flair3.shape[0]*flair3.shape[1],flair3.shape[2],flair3.shape[3],flair3.shape[4])\n",
        "print(flair3.shape)"
      ],
      "execution_count": null,
      "outputs": [
        {
          "output_type": "stream",
          "text": [
            "(90, 15, 4, 240, 240)\n",
            "(1350, 4, 240, 240)\n"
          ],
          "name": "stdout"
        }
      ]
    },
    {
      "cell_type": "code",
      "metadata": {
        "id": "doJpY1KxM6Kt"
      },
      "source": [
        "def normalise_data_img(data):\n",
        "  final_seg_inp=[]\n",
        "  #seg_inp=(np.asarray(list(normalize(segs))) for segment in data for segs in segment )\n",
        "  for segment in data:\n",
        "    #for segs in segment:\n",
        "       print('sement',segment.shape)\n",
        "       segs=np.asarray(list(map(lambda x: normalize(x), segment)))\n",
        "       final_seg_inp.append(segs)\n",
        "  seg_inp=np.asarray(final_seg_inp)\n",
        "  #print('seg_inp',seg_inp.shape)\n",
        "  #for segmen in range(int(len(seg_inp)/4)):\n",
        "  #  final_seg_inp.append(np.asarray(seg_inp[0:4*segmen,:,:]))\n",
        "  return seg_inp\n"
      ],
      "execution_count": null,
      "outputs": []
    },
    {
      "cell_type": "code",
      "metadata": {
        "id": "N3q48WMwFpdB"
      },
      "source": [
        "def standard_scaling(pixels):\n",
        "    mean, std = pixels.mean(), pixels.std()\n",
        "    print('Mean: %.3f, Standard Deviation: %.3f' % (mean, std))\n",
        "    # global standardization of pixels\n",
        "    pixels = (pixels - mean) / std\n",
        "    return pixels\n",
        "def standardise_data_img(data):\n",
        "  final_seg_inp=[]\n",
        "  #seg_inp=(np.asarray(list(normalize(segs))) for segment in data for segs in segment )\n",
        "  for segment in data:\n",
        "    #for segs in segment:\n",
        "       print('sement',segment.shape)\n",
        "       segs=np.asarray(list(map(lambda x: standard_scaling(x), segment)))\n",
        "       final_seg_inp.append(segs)\n",
        "  seg_inp=np.asarray(final_seg_inp)\n",
        "  #print('seg_inp',seg_inp.shape)\n",
        "  #for segmen in range(int(len(seg_inp)/4)):\n",
        "  #  final_seg_inp.append(np.asarray(seg_inp[0:4*segmen,:,:]))\n",
        "  return seg_inp\n",
        "\n"
      ],
      "execution_count": null,
      "outputs": []
    },
    {
      "cell_type": "code",
      "metadata": {
        "colab": {
          "base_uri": "https://localhost:8080/"
        },
        "id": "QvQB454dPMuD",
        "outputId": "740beb17-6401-4496-b455-87cc1c8087b2"
      },
      "source": [
        "#flair3=normalise_data_img(flair3)\n",
        "#flair3=standardise_data_img(flair3)\n",
        "#flair3=normalise_data_img(flair3)\n",
        "print(flair3.shape)"
      ],
      "execution_count": null,
      "outputs": [
        {
          "output_type": "stream",
          "text": [
            "(1350, 4, 240, 240)\n"
          ],
          "name": "stdout"
        }
      ]
    },
    {
      "cell_type": "code",
      "metadata": {
        "colab": {
          "base_uri": "https://localhost:8080/",
          "height": 286
        },
        "id": "G7CsJjLCEoC0",
        "outputId": "30086cd8-773d-4150-ff45-d59b1f8dbe7c"
      },
      "source": [
        "plt.imshow(flair3[60][0])"
      ],
      "execution_count": null,
      "outputs": [
        {
          "output_type": "execute_result",
          "data": {
            "text/plain": [
              "<matplotlib.image.AxesImage at 0x7f8aab480898>"
            ]
          },
          "metadata": {
            "tags": []
          },
          "execution_count": 21
        },
        {
          "output_type": "display_data",
          "data": {
            "image/png": "[encoded data removed]",
            "text/plain": [
              "<Figure size 432x288 with 1 Axes>"
            ]
          },
          "metadata": {
            "tags": [],
            "needs_background": "light"
          }
        }
      ]
    },
    {
      "cell_type": "code",
      "metadata": {
        "colab": {
          "base_uri": "https://localhost:8080/"
        },
        "id": "dVbk8DXkH-z0",
        "outputId": "b5966513-714b-4950-bb61-d936d41bf25b"
      },
      "source": [
        "seg3=[]\n",
        "for c in range(seg.shape[-1]):\n",
        "    seg3.append(seg[...,c])\n",
        "seg3=np.asarray(seg3)\n",
        "print(seg3.shape)\n",
        "seg3=seg3.reshape(seg3.shape[0]*seg3.shape[1],seg3.shape[2],seg3.shape[3],seg3.shape[4])\n",
        "print(seg3.shape)"
      ],
      "execution_count": null,
      "outputs": [
        {
          "output_type": "stream",
          "text": [
            "(90, 15, 1, 240, 240)\n",
            "(1350, 1, 240, 240)\n"
          ],
          "name": "stdout"
        }
      ]
    },
    {
      "cell_type": "code",
      "metadata": {
        "colab": {
          "base_uri": "https://localhost:8080/"
        },
        "id": "K6v5eInMKx0E",
        "outputId": "4ecd5bfe-54fe-4b24-dfc2-9fddc0e2b060"
      },
      "source": [
        "\n",
        "def remove_blank_images(seg5,flair5):\n",
        "  fseg=[]\n",
        "  fflair=[]\n",
        "  for index,eseg in enumerate(seg5,0):\n",
        "    #print(index)\n",
        "    #print(eseg.shape)\n",
        "    if (np.mean(eseg)>0):\n",
        "      fseg.append(eseg)\n",
        "      fflair.append(flair5[index])\n",
        "  fseg=np.asarray(fseg)\n",
        "  fflair=np.asarray(fflair)\n",
        "  return fflair,fseg\n",
        "flair3,seg3=remove_blank_images(seg3,flair3)\n",
        "print(seg3.shape)\n",
        "print(flair3.shape)\n",
        "\n",
        "\n",
        "\n"
      ],
      "execution_count": null,
      "outputs": [
        {
          "output_type": "stream",
          "text": [
            "(932, 1, 240, 240)\n",
            "(932, 4, 240, 240)\n"
          ],
          "name": "stdout"
        }
      ]
    },
    {
      "cell_type": "code",
      "metadata": {
        "id": "Vz5N74xWCVoJ"
      },
      "source": [
        "#gt=preprocess_label(np.squeeze(seg3[0]), out_shape=None, mode='nearest')\n",
        "#print(gt.shape)  \n",
        "#seg3=standardise_data_img(seg3)\n",
        "#seg3=np.asarray(list(map(lambda x: normalize(x), seg3)))\n",
        "#seg_labels=((np.asarray(list(convert_onech_tomultichannelgt(normalize(np.squeeze(segment)))))) for segment in seg3)\n",
        "seg_labels=((np.asarray(list(convert_onech_tomultichannelgt(np.squeeze(segment))))) for segment in seg3)\n",
        "seg_labels=np.asarray(list(seg_labels))\n",
        "#print(seg_labels.shape)\n",
        "#seg_labels=standardise_data_img(seg_labels)"
      ],
      "execution_count": null,
      "outputs": []
    },
    {
      "cell_type": "code",
      "metadata": {
        "id": "NQlhOBmrN1WX",
        "colab": {
          "base_uri": "https://localhost:8080/",
          "height": 286
        },
        "outputId": "d9502a1a-1b3e-4150-d696-812e4c522dd7"
      },
      "source": [
        "seg_labels=np.squeeze(seg_labels)\n",
        "plt.imshow(np.squeeze(seg_labels[150,0,:,:]))"
      ],
      "execution_count": null,
      "outputs": [
        {
          "output_type": "execute_result",
          "data": {
            "text/plain": [
              "<matplotlib.image.AxesImage at 0x7f8aab435fd0>"
            ]
          },
          "metadata": {
            "tags": []
          },
          "execution_count": 25
        },
        {
          "output_type": "display_data",
          "data": {
            "image/png": "[encoded data removed]",
            "text/plain": [
              "<Figure size 432x288 with 1 Axes>"
            ]
          },
          "metadata": {
            "tags": [],
            "needs_background": "light"
          }
        }
      ]
    },
    {
      "cell_type": "code",
      "metadata": {
        "colab": {
          "base_uri": "https://localhost:8080/",
          "height": 268
        },
        "id": "e5LSPVSN3i6X",
        "outputId": "fbae8764-1a69-44bb-801b-8d6ba79b656b"
      },
      "source": [
        "plt.hist(np.squeeze(seg_labels[2,1,:,:]),bins=5)\n",
        "plt.show()"
      ],
      "execution_count": null,
      "outputs": [
        {
          "output_type": "display_data",
          "data": {
            "image/png": "[encoded data removed]",
            "text/plain": [
              "<Figure size 432x288 with 1 Axes>"
            ]
          },
          "metadata": {
            "tags": [],
            "needs_background": "light"
          }
        }
      ]
    },
    {
      "cell_type": "code",
      "metadata": {
        "colab": {
          "base_uri": "https://localhost:8080/",
          "height": 268
        },
        "id": "7muLuMqp5LMf",
        "outputId": "d0d55028-ed55-4805-bad5-e5c358e59402"
      },
      "source": [
        "plt.hist(np.squeeze(flair3[0,1,:,:]),bins=5)\n",
        "plt.show()"
      ],
      "execution_count": null,
      "outputs": [
        {
          "output_type": "display_data",
          "data": {
            "image/png": "[encoded data removed]",
            "text/plain": [
              "<Figure size 432x288 with 1 Axes>"
            ]
          },
          "metadata": {
            "tags": [],
            "needs_background": "light"
          }
        }
      ]
    },
    {
      "cell_type": "code",
      "metadata": {
        "colab": {
          "base_uri": "https://localhost:8080/",
          "height": 286
        },
        "id": "csZ2sHSzJCBO",
        "outputId": "540b9da1-e040-419b-88b2-3bf835197a97"
      },
      "source": [
        "plt.imshow(np.squeeze(seg3[900]))\n",
        "#plt.hist(np.squeeze(seg3[1010]),256"
      ],
      "execution_count": null,
      "outputs": [
        {
          "output_type": "execute_result",
          "data": {
            "text/plain": [
              "<matplotlib.image.AxesImage at 0x7f8aab040f28>"
            ]
          },
          "metadata": {
            "tags": []
          },
          "execution_count": 29
        },
        {
          "output_type": "display_data",
          "data": {
            "image/png": "[encoded data removed]",
            "text/plain": [
              "<Figure size 432x288 with 1 Axes>"
            ]
          },
          "metadata": {
            "tags": [],
            "needs_background": "light"
          }
        }
      ]
    },
    {
      "cell_type": "code",
      "metadata": {
        "colab": {
          "base_uri": "https://localhost:8080/",
          "height": 268
        },
        "id": "6JEk5VuvXnDN",
        "outputId": "e40dafbc-3b54-4c06-a977-2f14b23068ce"
      },
      "source": [
        "plt.hist(np.squeeze(seg3[900]),5)\n",
        "plt.show()"
      ],
      "execution_count": null,
      "outputs": [
        {
          "output_type": "display_data",
          "data": {
            "image/png": "[encoded data removed]",
            "text/plain": [
              "<Figure size 432x288 with 1 Axes>"
            ]
          },
          "metadata": {
            "tags": [],
            "needs_background": "light"
          }
        }
      ]
    },
    {
      "cell_type": "code",
      "metadata": {
        "id": "zU9gSQmhjaLU"
      },
      "source": [
        "#seg2=seg.reshape(seg.shape[0]*seg.shape[4],seg.shape[1],seg.shape[2],seg.shape[3])\n",
        "#print(seg2.shape)"
      ],
      "execution_count": null,
      "outputs": []
    },
    {
      "cell_type": "code",
      "metadata": {
        "colab": {
          "base_uri": "https://localhost:8080/",
          "height": 286
        },
        "id": "m9roNbqfrcNG",
        "outputId": "42e2fe39-eb98-4e54-9fa4-bf2c4676ae39"
      },
      "source": [
        "plt.imshow(np.squeeze(seg3[1]))"
      ],
      "execution_count": null,
      "outputs": [
        {
          "output_type": "execute_result",
          "data": {
            "text/plain": [
              "<matplotlib.image.AxesImage at 0x7f8aabc81be0>"
            ]
          },
          "metadata": {
            "tags": []
          },
          "execution_count": 32
        },
        {
          "output_type": "display_data",
          "data": {
            "image/png": "[encoded data removed]",
            "text/plain": [
              "<Figure size 432x288 with 1 Axes>"
            ]
          },
          "metadata": {
            "tags": [],
            "needs_background": "light"
          }
        }
      ]
    },
    {
      "cell_type": "code",
      "metadata": {
        "id": "U0qu8PwkkgZz"
      },
      "source": [
        "import torch\n",
        "import torch.nn as nn\n",
        "import torch.nn.functional as F\n",
        "\n",
        "#import torch_geometric.nn as pyg_nn\n",
        "#import torch_geometric.utils as pyg_utils\n",
        "\n",
        "import time\n",
        "from datetime import datetime\n",
        "\n",
        "#import networkx as nx\n",
        "import numpy as np\n",
        "import torch\n",
        "import torch.optim as optim\n",
        "#from torchvision.datasets import MNIST\n",
        "import multiprocessing\n",
        "\n",
        "import numpy as np\n",
        "import scipy as sp\n",
        "from skimage.segmentation import slic, mark_boundaries\n",
        "import networkx as nx\n",
        "import matplotlib.pyplot as plt\n",
        "from matplotlib.lines import Line2D\n",
        "NP_TORCH_FLOAT_DTYPE = np.float32\n",
        "NP_TORCH_LONG_DTYPE = np.int64\n"
      ],
      "execution_count": null,
      "outputs": []
    },
    {
      "cell_type": "code",
      "metadata": {
        "id": "EumhPRgblNMR"
      },
      "source": [
        "import torch\n",
        "#import networkx as nx\n",
        "\n",
        "%matplotlib inline"
      ],
      "execution_count": null,
      "outputs": []
    },
    {
      "cell_type": "code",
      "metadata": {
        "id": "ytJax7WtlUFU"
      },
      "source": [
        "class Unet(torch.nn.Module):\n",
        "  def __init__(self):\n",
        "        super(Unet, self).__init__()\n",
        "        self.conv1 = nn.Conv2d(4, 32, 3, stride=1,padding=1)\n",
        "        self.maxpool1=nn.MaxPool2d(3, stride=2,padding=1)\n",
        "        self.conv2 = nn.Conv2d(32, 64, 3, stride=1,padding=1)\n",
        "        self.maxpool2=nn.MaxPool2d(3, stride=2,padding=1)\n",
        "        self.conv3 = nn.Conv2d(64, 128, 3, stride=1,padding=1)\n",
        "        self.maxpool3=nn.MaxPool2d(3, stride=2,padding=1)\n",
        "        self.conv4 = nn.Conv2d(128, 256, 3, stride=1,padding=1)\n",
        "        self.maxpool4=nn.MaxPool2d(3, stride=2,padding=1)\n",
        "        self.conv5 = nn.Conv2d(256, 1024, 3, stride=1,padding=1)\n",
        "\n",
        "\n",
        "\n",
        "\n",
        "        #############################################################\n",
        "        self.conv6 = nn.Conv2d(1024, 256, 3, stride=1,padding=1)\n",
        "        self.upsample1=torch.nn.Upsample(scale_factor=2, mode='nearest')\n",
        "        self.conv7 = nn.Conv2d(256, 128, 3, stride=1,padding=1)\n",
        "        self.upsample2=torch.nn.Upsample(scale_factor=2, mode='nearest')\n",
        "        self.conv8 = nn.Conv2d(128, 64, 3, stride=1,padding=1)\n",
        "        self.upsample3=torch.nn.Upsample(scale_factor=2, mode='nearest')\n",
        "        self.conv9 = nn.Conv2d(64, 32, 3, stride=1,padding=1)\n",
        "        self.upsample4=torch.nn.Upsample(scale_factor=2, mode='nearest')\n",
        "        self.conv10 = nn.Conv2d(32, 3, 3, stride=1,padding=1)\n",
        "\n",
        "        self.conv_cat1=nn.Conv2d(512, 256, 3, stride=1,padding=1)\n",
        "        self.conv_cat2=nn.Conv2d(256, 128, 3, stride=1,padding=1)\n",
        "        self.conv_cat3=nn.Conv2d(128, 64, 3, stride=1,padding=1)\n",
        "        self.conv_cat4=nn.Conv2d(64, 32, 3, stride=1,padding=1)\n",
        "        \n",
        "\n",
        "  def forward(self, x):\n",
        "        x1 = F.leaky_relu((self.conv1(x)),0.2)\n",
        "        x11=self.maxpool1(x1)\n",
        "        x2 = F.leaky_relu((self.conv2(x11)),0.2)\n",
        "        x21=self.maxpool2(x2)\n",
        "        x3 = F.leaky_relu((self.conv3(x21)),0.2)\n",
        "        x31=self.maxpool3(x3)\n",
        "        x4 = F.leaky_relu((self.conv4(x31)),0.2)\n",
        "        x41=self.maxpool4(x4)\n",
        "        x5 = F.leaky_relu(self.conv5(x41),0.2)\n",
        "        #####################################################################\n",
        "        x6 = F.leaky_relu((self.conv6(x5)),0.2)\n",
        "        x6=torch.cat([x41, x6], dim=1)\n",
        "        x61=self.upsample1(x6)\n",
        "        x6=F.leaky_relu(self.conv_cat1(x61))\n",
        "        #print('x6',x6.size())\n",
        "\n",
        "        \n",
        "        x7 = F.leaky_relu(self.conv7(x6),0.2)\n",
        "        x7=torch.cat([x31, x7], dim=1)\n",
        "        x7=self.upsample2(x7)\n",
        "        x7=F.leaky_relu(self.conv_cat2(x7))\n",
        "        #print('x7',x7.size())\n",
        "\n",
        "\n",
        "        x8 = F.leaky_relu(self.conv8(x7),0.2)\n",
        "        x8=torch.cat([x21, x8], dim=1)\n",
        "        x8=self.upsample3(x8)\n",
        "        x8=F.leaky_relu(self.conv_cat3(x8))\n",
        "        #print('x8',x8.size())\n",
        "\n",
        "        x9 = F.leaky_relu(self.conv9(x8),0.2)\n",
        "        x9=torch.cat([x11, x9], dim=1)\n",
        "        x9=self.upsample4(x9)\n",
        "        x9=F.leaky_relu(self.conv_cat4(x9))\n",
        "        #print('x9',x9.size())\n",
        "        x10 = torch.sigmoid(self.conv10(x9))\n",
        "        \n",
        "        \n",
        "               \n",
        "        return x10\n",
        "\n",
        "\n",
        "\n"
      ],
      "execution_count": null,
      "outputs": []
    },
    {
      "cell_type": "code",
      "metadata": {
        "id": "XxnnHEsZwQTK"
      },
      "source": [
        "def dice_loss(input, target):\n",
        "    \"\"\" This is a normal dice loss function for binary segmentation.\n",
        "    Args:\n",
        "        input: output of the segmentation network\n",
        "        target: ground truth label\n",
        "    Returns:\n",
        "        dice score\n",
        "    \"\"\"\n",
        "    smooth = 1\n",
        "    # input = F.softmax(input, dim=1)\n",
        "    # input = torch.sigmoid(input) #for binary\n",
        "    iflat = input.view(-1)\n",
        "    tflat = target.view(-1)\n",
        "    intersection = (iflat * tflat).sum()\n",
        "    union = iflat.sum() + tflat.sum()\n",
        "    dice_score = (2.*intersection + smooth)/(union + smooth)\n",
        "    return 1-dice_score"
      ],
      "execution_count": null,
      "outputs": []
    },
    {
      "cell_type": "code",
      "metadata": {
        "colab": {
          "base_uri": "https://localhost:8080/"
        },
        "id": "k4Hlh7uikgew",
        "outputId": "a5512636-40b8-4fd2-e910-b29b87e4569c"
      },
      "source": [
        "def normalize(x):\n",
        "    \"\"\"\n",
        "        argument\n",
        "            - x: input image data in numpy array [32, 32, 3]\n",
        "        return\n",
        "            - normalized x \n",
        "    \"\"\"\n",
        "    #min_val = np.min(x)\n",
        "    max_val = np.max(x)\n",
        "    x = x / max_val\n",
        "    return x\n",
        "\n",
        "\n",
        "\n",
        "\n",
        "\n",
        "\n",
        "\n",
        "\n",
        "from torch.utils.data import TensorDataset, DataLoader\n",
        "   \n",
        "\n",
        "\n",
        "\n",
        "\n",
        "tensor_x = torch.Tensor(flair3) # transform to torch tensor\n",
        "tensor_y = torch.Tensor(seg_labels)\n",
        "\n",
        "my_dataset = TensorDataset(tensor_x,tensor_y) # create your datset\n",
        "my_dataloader = DataLoader(my_dataset,batch_size=1, shuffle=True) # create your dataloader\n",
        "\n",
        "\n",
        "\n",
        "model = Unet()\n",
        "\n",
        "\n",
        "\n",
        "\n",
        "\n",
        "##############train and test#############\n",
        "#for epoch in range(1, 1000):\n",
        "    \n",
        "#    img,loss,x,out=train(epoch,imgs)\n",
        "use_cuda = torch.cuda.is_available()\n",
        "device = torch.device(\"cuda:0\" )\n",
        "\n",
        "\n",
        "\n",
        "model.cuda()\n",
        "\n",
        "#params=[model.parameters()]+[cnnfeaturemap.parameters()]+[encoder.parameters()]+[decoder.parameters()]\n",
        "optimizer = torch.optim.Adam(model.parameters(), lr=0.00001)\n",
        "trainingloss=[]\n",
        "testloss=[]\n",
        "for epoch in range(50):\n",
        "    # Training\n",
        "    \n",
        "    for local_batch, local_labels in my_dataloader:\n",
        "        # Transfer to GPU\n",
        "        optimizer.zero_grad()\n",
        "        local_batch, local_labels = local_batch.cuda(), local_labels.cuda()\n",
        "        #print(local_batch.size())\n",
        "        \n",
        "        local_batch=torch.reshape(local_batch,(local_batch.shape[0],4,local_batch.shape[2],local_batch.shape[3]))\n",
        "        i = model(local_batch)\n",
        "        \n",
        "        \n",
        "        #loss=torch.nn.BCELoss()(i,local_labels)\n",
        "        loss=dice_loss(i,local_labels)\n",
        "       \n",
        "        loss.backward()\n",
        "        optimizer.step()\n",
        "    \n",
        "    trainingloss.append(loss.item())\n",
        "    print('Epoch: {:03d}, Loss: {:.4f}'.format(epoch,loss))\n",
        "\n",
        "\n"
      ],
      "execution_count": null,
      "outputs": [
        {
          "output_type": "stream",
          "text": [
            "Epoch: 000, Loss: 0.9996\n",
            "Epoch: 001, Loss: 0.9996\n",
            "Epoch: 002, Loss: 0.9997\n",
            "Epoch: 003, Loss: 0.9500\n",
            "Epoch: 004, Loss: 0.9995\n",
            "Epoch: 005, Loss: 0.9986\n",
            "Epoch: 006, Loss: 0.9998\n",
            "Epoch: 007, Loss: 0.9992\n",
            "Epoch: 008, Loss: 0.9995\n",
            "Epoch: 009, Loss: 0.9994\n",
            "Epoch: 010, Loss: 0.9994\n",
            "Epoch: 011, Loss: 0.9992\n",
            "Epoch: 012, Loss: 0.9994\n",
            "Epoch: 013, Loss: 0.9984\n",
            "Epoch: 014, Loss: 0.9993\n",
            "Epoch: 015, Loss: 0.9971\n",
            "Epoch: 016, Loss: 0.9998\n",
            "Epoch: 017, Loss: 0.9996\n",
            "Epoch: 018, Loss: 0.9965\n",
            "Epoch: 019, Loss: 0.9997\n",
            "Epoch: 020, Loss: 0.9991\n",
            "Epoch: 021, Loss: 0.9998\n",
            "Epoch: 022, Loss: 0.9997\n",
            "Epoch: 023, Loss: 0.9925\n",
            "Epoch: 024, Loss: 0.9997\n",
            "Epoch: 025, Loss: 0.9997\n",
            "Epoch: 026, Loss: 0.9988\n",
            "Epoch: 027, Loss: 0.9994\n",
            "Epoch: 028, Loss: 0.9993\n",
            "Epoch: 029, Loss: 0.9986\n",
            "Epoch: 030, Loss: 0.9991\n",
            "Epoch: 031, Loss: 0.9991\n",
            "Epoch: 032, Loss: 0.9998\n",
            "Epoch: 033, Loss: 0.9995\n",
            "Epoch: 034, Loss: 0.9998\n",
            "Epoch: 035, Loss: 0.9994\n",
            "Epoch: 036, Loss: 0.9995\n",
            "Epoch: 037, Loss: 0.9991\n",
            "Epoch: 038, Loss: 0.9994\n",
            "Epoch: 039, Loss: 0.9997\n",
            "Epoch: 040, Loss: 0.9996\n",
            "Epoch: 041, Loss: 0.9986\n",
            "Epoch: 042, Loss: 0.9952\n",
            "Epoch: 043, Loss: 0.9996\n",
            "Epoch: 044, Loss: 0.9996\n",
            "Epoch: 045, Loss: 0.9991\n",
            "Epoch: 046, Loss: 0.9988\n",
            "Epoch: 047, Loss: 0.9997\n",
            "Epoch: 048, Loss: 0.9996\n",
            "Epoch: 049, Loss: 0.9583\n"
          ],
          "name": "stdout"
        }
      ]
    },
    {
      "cell_type": "code",
      "metadata": {
        "id": "Qby-1DL8lmiN",
        "colab": {
          "base_uri": "https://localhost:8080/",
          "height": 279
        },
        "outputId": "c9ce283e-5d19-4b78-e090-c57e1a344f3b"
      },
      "source": [
        "\n",
        "plt.plot(np.arange(50),trainingloss,label='Training loss')\n",
        "#plt.show()\n",
        "#plt.plot(np.arange(50),testloss,label='Test loss')\n",
        "plt.xlabel('Epochs')\n",
        "plt.ylabel('Loss')\n",
        "plt.legend()\n",
        "plt.show()\n"
      ],
      "execution_count": null,
      "outputs": [
        {
          "output_type": "display_data",
          "data": {
            "image/png": "[encoded data removed]",
            "text/plain": [
              "<Figure size 432x288 with 1 Axes>"
            ]
          },
          "metadata": {
            "tags": [],
            "needs_background": "light"
          }
        }
      ]
    },
    {
      "cell_type": "code",
      "metadata": {
        "id": "nXk9Otdqkggs",
        "colab": {
          "base_uri": "https://localhost:8080/",
          "height": 286
        },
        "outputId": "7e0eb20c-f948-448d-8623-b9eb48cfeea2"
      },
      "source": [
        "i=i.squeeze()\n",
        "i=i.cpu()\n",
        "plt.imshow(i[0].detach().numpy())"
      ],
      "execution_count": null,
      "outputs": [
        {
          "output_type": "execute_result",
          "data": {
            "text/plain": [
              "<matplotlib.image.AxesImage at 0x7f8a3a5dfeb8>"
            ]
          },
          "metadata": {
            "tags": []
          },
          "execution_count": 51
        },
        {
          "output_type": "display_data",
          "data": {
            "image/png": "[encoded data removed]",
            "text/plain": [
              "<Figure size 432x288 with 1 Axes>"
            ]
          },
          "metadata": {
            "tags": [],
            "needs_background": "light"
          }
        }
      ]
    },
    {
      "cell_type": "code",
      "metadata": {
        "colab": {
          "base_uri": "https://localhost:8080/",
          "height": 286
        },
        "id": "YibddjZDeLLk",
        "outputId": "14705f75-3696-4070-fd91-0b013ea91f21"
      },
      "source": [
        "#local_labels=np.squeeze(local_labels.cpu().numpy())\n",
        "plt.imshow(local_labels[1])"
      ],
      "execution_count": null,
      "outputs": [
        {
          "output_type": "execute_result",
          "data": {
            "text/plain": [
              "<matplotlib.image.AxesImage at 0x7f8a3a844518>"
            ]
          },
          "metadata": {
            "tags": []
          },
          "execution_count": 47
        },
        {
          "output_type": "display_data",
          "data": {
            "image/png": "[encoded data removed]",
            "text/plain": [
              "<Figure size 432x288 with 1 Axes>"
            ]
          },
          "metadata": {
            "tags": [],
            "needs_background": "light"
          }
        }
      ]
    }
  ]
}